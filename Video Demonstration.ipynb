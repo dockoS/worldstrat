{
 "cells": [
  {
   "cell_type": "markdown",
   "metadata": {},
   "source": [
    "# Video demonstrations of super-resolution\n",
    "\n",
    "A great way to demonstrate the difference between the input low-resolution images and the super-resolved output images  \n",
    "is to visually compare them through a video.\n",
    "\n",
    "This notebook provides a way to do so, with several comparison scenarios already implemented.\n",
    "NOTE: You need to have FFMPEG installed and accessible through the command prompt/console (ffmpeg command).\n",
    "\n",
    "## Loading the images\n",
    "\n",
    "First you need to provide a folder with low-resolution images and the super-resolved output image.  \n",
    "The images should share a common prefix, e.g. LR-Image-1, LR-Image-2 for the low-res images, and SR-Output.\n",
    "\n",
    "The folder path, along with these prefixes is passed into the `Video` class constructor which automatically loads the images.  \n",
    "\n",
    "## Generating video comparisons\n",
    "\n",
    "The `Video` class offers three different comparison scenarios:\n",
    "- A single revisit comparison video (between the first revisit and the super resolved image).\n",
    "- A comparison between vertically merged low resolution images and the super resolved image.\n",
    "- A comparison between horizontally merged low resolution images and the super resolved image.\n",
    "\n",
    "All of the scenarios have built in transitions showcasing all of the low-resolution images.  \n",
    "If an annotation mask highlighting key image areas is provided, the images are also annotated with the mask.\n",
    "\n",
    "The three scenarios are saved to three files in the output_path:\n",
    "- single_revisit_comparison.mp4\n",
    "- merged_vertical_comparison.mp4\n",
    "- merged_horizontal_comparison.mp4\n",
    "\n",
    "## Zooming into images\n",
    "\n",
    "If the images are of high resolution, you can zoom into any part of the image using the `Video` class, and you can easily  \n",
    "switch back and forth between the zoomed-out full resolution and the zoomed-in preview using the following methods:\n",
    "\n",
    "- `generate_zoom_into_group`\n",
    "- `zoom_into`\n",
    "- `zoom_out`\n"
   ]
  },
  {
   "cell_type": "markdown",
   "metadata": {},
   "source": [
    "# Demo video\n",
    "\n",
    "Let's generate a demo video that showcases the three different scenarios, along with the zoom-in capabilities."
   ]
  },
  {
   "cell_type": "markdown",
   "metadata": {},
   "source": [
    "### Default scenarios without zooming in"
   ]
  },
  {
   "cell_type": "code",
   "execution_count": 4,
   "metadata": {},
   "outputs": [
    {
     "data": {
      "application/vnd.jupyter.widget-view+json": {
       "model_id": "64d38f2bf27d40b5b1627fe7455e66b3",
       "version_major": 2,
       "version_minor": 0
      },
      "text/plain": [
       "Converting frames to OpenCV:   0%|          | 0/1004 [00:00<?, ?it/s]"
      ]
     },
     "metadata": {},
     "output_type": "display_data"
    },
    {
     "data": {
      "application/vnd.jupyter.widget-view+json": {
       "model_id": "e9676157a479496ea5b690638b9f4774",
       "version_major": 2,
       "version_minor": 0
      },
      "text/plain": [
       "Writing frames to data\\visualisations\\videos\\single_revisit_comparison.mp4:   0%|          | 0/1004 [00:00<?, …"
      ]
     },
     "metadata": {},
     "output_type": "display_data"
    },
    {
     "data": {
      "application/vnd.jupyter.widget-view+json": {
       "model_id": "3731b739d183434f9c0eedc17a295f61",
       "version_major": 2,
       "version_minor": 0
      },
      "text/plain": [
       "Converting frames to OpenCV:   0%|          | 0/1195 [00:00<?, ?it/s]"
      ]
     },
     "metadata": {},
     "output_type": "display_data"
    },
    {
     "data": {
      "application/vnd.jupyter.widget-view+json": {
       "model_id": "240839369c4a47378bc438c5f6f245d0",
       "version_major": 2,
       "version_minor": 0
      },
      "text/plain": [
       "Writing frames to data\\visualisations\\videos\\merged_vertical_comparison.mp4:   0%|          | 0/1195 [00:00<?,…"
      ]
     },
     "metadata": {},
     "output_type": "display_data"
    },
    {
     "data": {
      "application/vnd.jupyter.widget-view+json": {
       "model_id": "99a06adf6ff54476a667e7c1f3616042",
       "version_major": 2,
       "version_minor": 0
      },
      "text/plain": [
       "Converting frames to OpenCV:   0%|          | 0/1195 [00:00<?, ?it/s]"
      ]
     },
     "metadata": {},
     "output_type": "display_data"
    },
    {
     "data": {
      "application/vnd.jupyter.widget-view+json": {
       "model_id": "fe657be95aa74675aa1f55ab1e012e2c",
       "version_major": 2,
       "version_minor": 0
      },
      "text/plain": [
       "Writing frames to data\\visualisations\\videos\\merged_horizontal_comparison.mp4:   0%|          | 0/1195 [00:00<…"
      ]
     },
     "metadata": {},
     "output_type": "display_data"
    },
    {
     "data": {
      "application/vnd.jupyter.widget-view+json": {
       "model_id": "8d73ad17e9a94232beb2337580897a6f",
       "version_major": 2,
       "version_minor": 0
      },
      "text/plain": [
       "Converting frames to OpenCV:   0%|          | 0/1386 [00:00<?, ?it/s]"
      ]
     },
     "metadata": {},
     "output_type": "display_data"
    },
    {
     "data": {
      "application/vnd.jupyter.widget-view+json": {
       "model_id": "25d67ac20b3949b88193a74711bab3f1",
       "version_major": 2,
       "version_minor": 0
      },
      "text/plain": [
       "Writing frames to data\\visualisations\\videos\\test_scenario.mp4:   0%|          | 0/1386 [00:00<?, ?it/s]"
      ]
     },
     "metadata": {},
     "output_type": "display_data"
    }
   ],
   "source": [
    "%load_ext autoreload\n",
    "%autoreload 2\n",
    "from video_demonstrations.Video import Video\n",
    "from video_demonstrations.Scenarios import Scenario\n",
    "\n",
    "\n",
    "root_path = \"video_demonstrations/test_data/\"\n",
    "video = Video(root_path, sr_prefix='SR', lr_prefix='L', watermark_logo_path='video_demonstrations/whyhow logo.png')\n",
    "video.generate_zoom_into_group(600, 600)\n",
    "frames = []\n",
    "frames += Scenario.generate_default_scenarios(video)\n",
    "video.frames = frames\n",
    "video.save_frames_to_video(video_path='test_scenario.mp4', fps=60)\n"
   ]
  },
  {
   "cell_type": "markdown",
   "metadata": {},
   "source": [
    "### Convert the videos for Jupyter preview\n",
    "You will need FFmpeg installed and added to PATH.  \n",
    "[You can download FFmpeg here.](https://ffmpeg.org/download.html)\n",
    "\n",
    "\n",
    "Converting the videos can take a minute."
   ]
  },
  {
   "cell_type": "code",
   "execution_count": 7,
   "metadata": {},
   "outputs": [],
   "source": [
    "%%capture\n",
    "# Comment out %%capture to see the error message if the video is not playing\n",
    "!ffmpeg -i data/visualisations/videos/single_revisit_comparison.mp4 -i data/visualisations/videos/merged_vertical_comparison.mp4 -i data/visualisations/videos/merged_horizontal_comparison.mp4 -filter_complex \"[1:v][0:v]scale2ref=oh*mdar:ih[1v][0v];[2:v][0v]scale2ref=oh*mdar:ih[2v][0v];[0v][1v][2v]hstack=3,scale='2*trunc(iw/2)':'2*trunc(ih/2)'\" data/visualisations/videos/default_scenarios.mp4 -y"
   ]
  },
  {
   "cell_type": "markdown",
   "metadata": {},
   "source": [
    "- Left: A single revisit comparison video (between the first revisit and the super resolved image).\n",
    "- Middle: A comparison between vertically merged low resolution images and the super resolved image.\n",
    "- Right: A comparison between horizontally merged low resolution images and the super resolved image."
   ]
  },
  {
   "cell_type": "code",
   "execution_count": 8,
   "metadata": {},
   "outputs": [
    {
     "data": {
      "text/html": [
       "<video src=\"data/visualisations/videos/default_scenarios.mp4\" controls  width=\"1200\"  height=\"400\">\n",
       "      Your browser does not support the <code>video</code> element.\n",
       "    </video>"
      ],
      "text/plain": [
       "<IPython.core.display.Video object>"
      ]
     },
     "execution_count": 8,
     "metadata": {},
     "output_type": "execute_result"
    }
   ],
   "source": [
    "from IPython.display import Video as IPythonVideo\n",
    "IPythonVideo('data/visualisations/videos/default_scenarios.mp4', width=1200, height=400)"
   ]
  },
  {
   "cell_type": "code",
   "execution_count": 9,
   "metadata": {},
   "outputs": [],
   "source": [
    "%%capture\n",
    "# Comment out %%capture to see the error message if the video is not playing\n",
    "!ffmpeg -i data/visualisations/videos/test_scenario.mp4 -vcodec libx264 -acodec aac data/visualisations/videos/test_scenario_preview.mp4 -y"
   ]
  },
  {
   "cell_type": "code",
   "execution_count": 10,
   "metadata": {},
   "outputs": [
    {
     "data": {
      "text/html": [
       "<video src=\"data/visualisations/videos/test_scenario_preview.mp4\" controls  width=\"400\"  height=\"400\">\n",
       "      Your browser does not support the <code>video</code> element.\n",
       "    </video>"
      ],
      "text/plain": [
       "<IPython.core.display.Video object>"
      ]
     },
     "execution_count": 10,
     "metadata": {},
     "output_type": "execute_result"
    }
   ],
   "source": [
    "IPythonVideo('data/visualisations/videos/test_scenario_preview.mp4', width=400, height=400)"
   ]
  },
  {
   "cell_type": "markdown",
   "metadata": {},
   "source": [
    "### Default scenarios with zooming in\n",
    "We can also zoom in to a certain part of the original images to be able to see the difference even closer."
   ]
  },
  {
   "cell_type": "code",
   "execution_count": 11,
   "metadata": {},
   "outputs": [
    {
     "data": {
      "application/vnd.jupyter.widget-view+json": {
       "model_id": "c6efd49856a344ee93db9b9a35a0d61c",
       "version_major": 2,
       "version_minor": 0
      },
      "text/plain": [
       "Converting frames to OpenCV:   0%|          | 0/1004 [00:00<?, ?it/s]"
      ]
     },
     "metadata": {},
     "output_type": "display_data"
    },
    {
     "data": {
      "application/vnd.jupyter.widget-view+json": {
       "model_id": "8517ed4eb2af40549b336b0a0dfc1656",
       "version_major": 2,
       "version_minor": 0
      },
      "text/plain": [
       "Writing frames to data\\visualisations\\videos\\single_revisit_comparison.mp4:   0%|          | 0/1004 [00:00<?, …"
      ]
     },
     "metadata": {},
     "output_type": "display_data"
    },
    {
     "data": {
      "application/vnd.jupyter.widget-view+json": {
       "model_id": "7bceb5f73c4a4b4aa01a4ad4f4f71064",
       "version_major": 2,
       "version_minor": 0
      },
      "text/plain": [
       "Converting frames to OpenCV:   0%|          | 0/1195 [00:00<?, ?it/s]"
      ]
     },
     "metadata": {},
     "output_type": "display_data"
    },
    {
     "data": {
      "application/vnd.jupyter.widget-view+json": {
       "model_id": "108f0692c1b842478820f0e67a9a989a",
       "version_major": 2,
       "version_minor": 0
      },
      "text/plain": [
       "Writing frames to data\\visualisations\\videos\\merged_vertical_comparison.mp4:   0%|          | 0/1195 [00:00<?,…"
      ]
     },
     "metadata": {},
     "output_type": "display_data"
    },
    {
     "data": {
      "application/vnd.jupyter.widget-view+json": {
       "model_id": "0736ea6df3f247b09678012977fe1861",
       "version_major": 2,
       "version_minor": 0
      },
      "text/plain": [
       "Converting frames to OpenCV:   0%|          | 0/1195 [00:00<?, ?it/s]"
      ]
     },
     "metadata": {},
     "output_type": "display_data"
    },
    {
     "data": {
      "application/vnd.jupyter.widget-view+json": {
       "model_id": "0d3299c4ea544da9962ea4c8a64fce10",
       "version_major": 2,
       "version_minor": 0
      },
      "text/plain": [
       "Writing frames to data\\visualisations\\videos\\merged_horizontal_comparison.mp4:   0%|          | 0/1195 [00:00<…"
      ]
     },
     "metadata": {},
     "output_type": "display_data"
    },
    {
     "data": {
      "application/vnd.jupyter.widget-view+json": {
       "model_id": "a34b0c578cf84724a51f1157567274c0",
       "version_major": 2,
       "version_minor": 0
      },
      "text/plain": [
       "Converting frames to OpenCV:   0%|          | 0/1748 [00:00<?, ?it/s]"
      ]
     },
     "metadata": {},
     "output_type": "display_data"
    },
    {
     "data": {
      "application/vnd.jupyter.widget-view+json": {
       "model_id": "a46831e9b7d941a58549bafb1e2c67f6",
       "version_major": 2,
       "version_minor": 0
      },
      "text/plain": [
       "Writing frames to data\\visualisations\\videos\\test_scenario_zoom.mp4:   0%|          | 0/1748 [00:00<?, ?it/s]"
      ]
     },
     "metadata": {},
     "output_type": "display_data"
    }
   ],
   "source": [
    "video = Video(root_path, sr_prefix='SR', lr_prefix='L', watermark_logo_path='video_demonstrations/whyhow logo.png')\n",
    "video.generate_zoom_into_group(600, 600)\n",
    "frames = []\n",
    "frames += Scenario.generate_zoom_into_animation(video)\n",
    "video.zoom_into()\n",
    "frames += Scenario.generate_default_scenarios(video)\n",
    "video.zoom_out()\n",
    "frames += Scenario.generate_zoom_out_animation(video)\n",
    "video.frames = frames\n",
    "video.save_frames_to_video(video_path='test_scenario_zoom.mp4', fps=60)\n"
   ]
  },
  {
   "cell_type": "code",
   "execution_count": 12,
   "metadata": {},
   "outputs": [],
   "source": [
    "%%capture\n",
    "# Comment out %%capture to see the error message if the video is not playing\n",
    "!ffmpeg -i data/visualisations/videos/single_revisit_comparison.mp4 -i data/visualisations/videos/merged_vertical_comparison.mp4 -i data/visualisations/videos/merged_horizontal_comparison.mp4 -filter_complex \"[1:v][0:v]scale2ref=oh*mdar:ih[1v][0v];[2:v][0v]scale2ref=oh*mdar:ih[2v][0v];[0v][1v][2v]hstack=3,scale='2*trunc(iw/2)':'2*trunc(ih/2)'\" data/visualisations/videos/default_scenarios_zoom.mp4 -y"
   ]
  },
  {
   "cell_type": "code",
   "execution_count": 13,
   "metadata": {},
   "outputs": [
    {
     "data": {
      "text/html": [
       "<video src=\"data/visualisations/videos/default_scenarios_zoom.mp4\" controls  width=\"1200\"  height=\"400\">\n",
       "      Your browser does not support the <code>video</code> element.\n",
       "    </video>"
      ],
      "text/plain": [
       "<IPython.core.display.Video object>"
      ]
     },
     "execution_count": 13,
     "metadata": {},
     "output_type": "execute_result"
    }
   ],
   "source": [
    "IPythonVideo('data/visualisations/videos/default_scenarios_zoom.mp4', width=1200, height=400)"
   ]
  },
  {
   "cell_type": "code",
   "execution_count": 14,
   "metadata": {},
   "outputs": [],
   "source": [
    "%%capture\n",
    "# Comment out %%capture to see the error message if the video is not playing\n",
    "!ffmpeg -i data/visualisations/videos/test_scenario_zoom.mp4 -vcodec libx264 -acodec aac data/visualisations/videos/test_scenario_zoom_preview.mp4 -y"
   ]
  },
  {
   "cell_type": "code",
   "execution_count": 15,
   "metadata": {},
   "outputs": [
    {
     "data": {
      "text/html": [
       "<video src=\"data/visualisations/videos/test_scenario_zoom_preview.mp4\" controls  width=\"400\"  height=\"400\">\n",
       "      Your browser does not support the <code>video</code> element.\n",
       "    </video>"
      ],
      "text/plain": [
       "<IPython.core.display.Video object>"
      ]
     },
     "execution_count": 15,
     "metadata": {},
     "output_type": "execute_result"
    }
   ],
   "source": [
    "IPythonVideo('data/visualisations/videos/test_scenario_zoom_preview.mp4', width=400, height=400)"
   ]
  },
  {
   "cell_type": "code",
   "execution_count": null,
   "metadata": {},
   "outputs": [],
   "source": []
  }
 ],
 "metadata": {
  "kernelspec": {
   "display_name": "Python 3.10.5 ('worldstrat')",
   "language": "python",
   "name": "python3"
  },
  "language_info": {
   "codemirror_mode": {
    "name": "ipython",
    "version": 3
   },
   "file_extension": ".py",
   "mimetype": "text/x-python",
   "name": "python",
   "nbconvert_exporter": "python",
   "pygments_lexer": "ipython3",
   "version": "3.10.5"
  },
  "vscode": {
   "interpreter": {
    "hash": "4151d50128295e6419a637553904cae4fc18ed6dc9ed0de784cf617a79695b0d"
   }
  }
 },
 "nbformat": 4,
 "nbformat_minor": 4
}
